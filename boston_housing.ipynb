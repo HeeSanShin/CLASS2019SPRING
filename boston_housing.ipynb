{
 "cells": [
  {
   "cell_type": "markdown",
   "metadata": {},
   "source": [
    "연속된 y의 값을 디지털과 같이 0,1처럼 끊어 주는 과정   \n",
    "y = ax+b 의 경우의 y는 카테고리하지 않다 - 이는 리그레션\n",
    "classification 한것이 필요하다. (ex) 무지개 역시도 7색으로 classification으로 만든 것이다) \n",
    "regression - classification으로 만들려는 것이다 \n",
    "y값에다 0,1로 가도록 해버리는 것이 - sigmoid라는 것이다 \n",
    "끝에다가 0 직전에 sigmoid를 걸어준다고 생각하면 된다. 생김새가 linear하지 않기 떄문에 \n",
    "00000111111111111 not-linear를 부과시켜 준다고 한다 (code상 activation) \n",
    "yes or no 로 인식하게 만들어 놓는 것이다. \n",
    "tensorflow.keras - 파이썬을 기본으로 돕니다. \n",
    "직접 정보를 구할 수 없기에 구글에서 제공하는 data set을 이용하기로한다. \n",
    "보스턴은 엑셀에 칼럼이 14개 x 13 y 1 \n",
    "\n",
    "그림에 100 * 100의 픽셀이 있다 총 숫자의 개수는 - 3만개 - 흑백이면 1만개 - 검흰은 0,1로 표현하면 되니까 // 컬러니까 RGB 3층이니까 칼라는 곱하기 3을 하면 되는 것임\n",
    "이러한 것의 연속인 100개의 레이블은 어떻게  저장? \n",
    "0~99 /1~100 중에 택해서 저장하면 된다. ex) 흑인은 77로 고유값을 준다\n",
    "imdb는 좋다 안좋다는 1,0 으로 classification \n",
    "크롤링 - 을 통해 추출하면 됨\n",
    "\n",
    "mnist - 흑백 / 숫자 - digit classfication - base - \n",
    "\n",
    "reuter - 뉴스 데이터 \n",
    "\n",
    "각 6개 모두 sound를 제외(복잡 데이터 셋에서도 제외) - text에 대한 advanced \n",
    " \n"
   ]
  },
  {
   "cell_type": "code",
   "execution_count": 5,
   "metadata": {},
   "outputs": [],
   "source": [
    "# description\n",
    "# https://www.kaggle.com/c/boston-housing\n",
    "\n",
    "# TensorFlow and tf.keras\n",
    "import tensorflow\n",
    "from tensorflow.keras.models import Sequential\n",
    "from tensorflow.keras.layers import Dense\n",
    "\n",
    "# Helper libraries\n",
    "import numpy as np\n",
    "import matplotlib.pyplot as plt"
   ]
  },
  {
   "cell_type": "markdown",
   "metadata": {},
   "source": [
    "왜 해당 부분이 invalid syntax가 되는지 모르겠습니다. "
   ]
  },
  {
   "cell_type": "code",
   "execution_count": 6,
   "metadata": {},
   "outputs": [
    {
     "ename": "SyntaxError",
     "evalue": "invalid syntax (<ipython-input-6-769ce6932225>, line 1)",
     "output_type": "error",
     "traceback": [
      "\u001b[0;36m  File \u001b[0;32m\"<ipython-input-6-769ce6932225>\"\u001b[0;36m, line \u001b[0;32m1\u001b[0m\n\u001b[0;31m    (x_train, y_train), (x_test, y_test) =\u001b[0m\n\u001b[0m                                           ^\u001b[0m\n\u001b[0;31mSyntaxError\u001b[0m\u001b[0;31m:\u001b[0m invalid syntax\n"
     ]
    }
   ],
   "source": [
    "(x_train, y_train), (x_test, y_test) = \n",
    "tensorflow.keras.datasets.boston_housing.load_data(path='boston_housing.npz')"
   ]
  },
  {
   "cell_type": "code",
   "execution_count": 3,
   "metadata": {},
   "outputs": [
    {
     "name": "stdout",
     "output_type": "stream",
     "text": [
      "WARNING:tensorflow:From /Users/shinhe/anaconda3/lib/python3.7/site-packages/tensorflow/python/ops/resource_variable_ops.py:435: colocate_with (from tensorflow.python.framework.ops) is deprecated and will be removed in a future version.\n",
      "Instructions for updating:\n",
      "Colocations handled automatically by placer.\n",
      "WARNING:tensorflow:From /Users/shinhe/anaconda3/lib/python3.7/site-packages/tensorflow/python/keras/utils/losses_utils.py:170: to_float (from tensorflow.python.ops.math_ops) is deprecated and will be removed in a future version.\n",
      "Instructions for updating:\n",
      "Use tf.cast instead.\n",
      "_________________________________________________________________\n",
      "Layer (type)                 Output Shape              Param #   \n",
      "=================================================================\n",
      "dense (Dense)                (None, 1)                 14        \n",
      "=================================================================\n",
      "Total params: 14\n",
      "Trainable params: 14\n",
      "Non-trainable params: 0\n",
      "_________________________________________________________________\n"
     ]
    }
   ],
   "source": [
    "model = Sequential()\n",
    "model.add(Dense(1, input_shape=[13]))\n",
    "model.compile(optimizer='rmsprop', loss='mse')\n",
    "model.summary()"
   ]
  },
  {
   "cell_type": "code",
   "execution_count": 4,
   "metadata": {
    "scrolled": true
   },
   "outputs": [
    {
     "ename": "NameError",
     "evalue": "name 'x_train' is not defined",
     "output_type": "error",
     "traceback": [
      "\u001b[0;31m---------------------------------------------------------------------------\u001b[0m",
      "\u001b[0;31mNameError\u001b[0m                                 Traceback (most recent call last)",
      "\u001b[0;32m<ipython-input-4-a5e6a9bff808>\u001b[0m in \u001b[0;36m<module>\u001b[0;34m\u001b[0m\n\u001b[0;32m----> 1\u001b[0;31m \u001b[0mmodel\u001b[0m\u001b[0;34m.\u001b[0m\u001b[0mfit\u001b[0m\u001b[0;34m(\u001b[0m\u001b[0mx_train\u001b[0m\u001b[0;34m,\u001b[0m \u001b[0my_train\u001b[0m\u001b[0;34m,\u001b[0m \u001b[0mepochs\u001b[0m\u001b[0;34m=\u001b[0m\u001b[0;36m1000\u001b[0m\u001b[0;34m)\u001b[0m\u001b[0;34m\u001b[0m\u001b[0;34m\u001b[0m\u001b[0m\n\u001b[0m",
      "\u001b[0;31mNameError\u001b[0m: name 'x_train' is not defined"
     ]
    }
   ],
   "source": [
    "model.fit(x_train, y_train, epochs=1000)"
   ]
  },
  {
   "cell_type": "markdown",
   "metadata": {},
   "source": [
    "fit = 훈련이라는 말 (80퍼센트 데이터 사용 ) - // 잘되었나 잘 안되었나 (안쓴 데이터 20퍼센트 데이터 사용)\n",
    "\n",
    "x,y test는 ?"
   ]
  },
  {
   "cell_type": "code",
   "execution_count": 35,
   "metadata": {
    "scrolled": false
   },
   "outputs": [
    {
     "name": "stdout",
     "output_type": "stream",
     "text": [
      "102/102 [==============================] - 0s 792us/sample - loss: 30.3416\n"
     ]
    },
    {
     "data": {
      "text/plain": [
       "30.341600754681757"
      ]
     },
     "execution_count": 35,
     "metadata": {},
     "output_type": "execute_result"
    }
   ],
   "source": [
    "model.evaluate(x_test, y_test)"
   ]
  },
  {
   "cell_type": "code",
   "execution_count": 78,
   "metadata": {},
   "outputs": [
    {
     "name": "stdout",
     "output_type": "stream",
     "text": [
      "(None, 13)\n",
      "(None, 1)\n"
     ]
    }
   ],
   "source": [
    "print(model.input_shape)\n",
    "print(model.output_shape)"
   ]
  },
  {
   "cell_type": "code",
   "execution_count": 105,
   "metadata": {
    "scrolled": true
   },
   "outputs": [
    {
     "data": {
      "text/plain": [
       "array([[190.32436]], dtype=float32)"
      ]
     },
     "execution_count": 105,
     "metadata": {},
     "output_type": "execute_result"
    }
   ],
   "source": [
    "# INPUT::\n",
    "# 1. crim: per capita crime rate by town.\n",
    "# 2. zn: proportion of residential land zoned for lots over 25,000 sq.ft.\n",
    "# 3. indus: proportion of non-retail business acres per town.\n",
    "# 4. chas: Charles River dummy variable (= 1 if tract bounds river; 0 otherwise).\n",
    "# 5. nox: nitrogen oxides concentration (parts per 10 million).\n",
    "# 6. rm: average number of rooms per dwelling.\n",
    "# 7. age: proportion of owner-occupied units built prior to 1940.\n",
    "# 8. dis: weighted mean of distances to five Boston employment centres.\n",
    "# 9. rad: index of accessibility to radial highways.\n",
    "# 10. tax: full-value property-tax rate per $10,000.\n",
    "# 11. ptratio: pupil-teacher ratio by town.\n",
    "# 12. black: 1000(Bk - 0.63)^2 where Bk is the proportion of blacks by town.\n",
    "# 13. lstat: lower status of the population (percent).\n",
    "\n",
    "# TARGET::\n",
    "# medv: median value of owner-occupied homes in $1000s.\n",
    "\n",
    "model.predict(np.array([0, 1, 50, 1, 0, 5, .5, 10, 1000, 100, 10, 100, 1]).reshape(1,13))"
   ]
  },
  {
   "cell_type": "markdown",
   "metadata": {},
   "source": [
    "predict는 실제 쓸때 상품화 시킬때 사용"
   ]
  },
  {
   "cell_type": "code",
   "execution_count": null,
   "metadata": {},
   "outputs": [],
   "source": []
  }
 ],
 "metadata": {
  "kernelspec": {
   "display_name": "Python 3",
   "language": "python",
   "name": "python3"
  },
  "language_info": {
   "codemirror_mode": {
    "name": "ipython",
    "version": 3
   },
   "file_extension": ".py",
   "mimetype": "text/x-python",
   "name": "python",
   "nbconvert_exporter": "python",
   "pygments_lexer": "ipython3",
   "version": "3.7.1"
  }
 },
 "nbformat": 4,
 "nbformat_minor": 2
}
