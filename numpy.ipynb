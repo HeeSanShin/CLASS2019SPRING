{
 "cells": [
  {
   "cell_type": "markdown",
   "metadata": {},
   "source": [
    "# NumPy basics"
   ]
  },
  {
   "cell_type": "markdown",
   "metadata": {},
   "source": [
    "## 1. Creation"
   ]
  },
  {
   "cell_type": "code",
   "execution_count": 2,
   "metadata": {},
   "outputs": [],
   "source": [
    "import numpy as np\n",
    "import matplotlib.pyplot as plt"
   ]
  },
  {
   "cell_type": "code",
   "execution_count": 6,
   "metadata": {
    "scrolled": false
   },
   "outputs": [
    {
     "data": {
      "text/plain": [
       "array([[0, 0, 0],\n",
       "       [0, 0, 0]])"
      ]
     },
     "execution_count": 6,
     "metadata": {},
     "output_type": "execute_result"
    }
   ],
   "source": [
    "np.empty([2,3], dtype='int')"
   ]
  },
  {
   "cell_type": "markdown",
   "metadata": {},
   "source": [
    "dtype에 정의를 해주지 않으면 이를 float으로 받아 들여주는 것을 볼 수 있다. "
   ]
  },
  {
   "cell_type": "markdown",
   "metadata": {},
   "source": [
    "아래의 것은 2 * 3 의 행렬 "
   ]
  },
  {
   "cell_type": "code",
   "execution_count": 7,
   "metadata": {
    "scrolled": true
   },
   "outputs": [
    {
     "data": {
      "text/plain": [
       "array([[0., 0., 0.],\n",
       "       [0., 0., 0.]])"
      ]
     },
     "execution_count": 7,
     "metadata": {},
     "output_type": "execute_result"
    }
   ],
   "source": [
    "np.zeros([2,3])"
   ]
  },
  {
   "cell_type": "markdown",
   "metadata": {},
   "source": [
    "위는 그냥 column이다 결과 값의 [의 개수로 해당의 차원을 알 수 있는 것이다 "
   ]
  },
  {
   "cell_type": "markdown",
   "metadata": {},
   "source": [
    "arrange는 (x,y,z)이면 무조건 잡아주고 나머지는z개수만큼 동등하게 나누어 가져주는거 "
   ]
  },
  {
   "cell_type": "code",
   "execution_count": 10,
   "metadata": {},
   "outputs": [
    {
     "data": {
      "text/plain": [
       "array([0., 3., 6., 9.])"
      ]
     },
     "execution_count": 10,
     "metadata": {},
     "output_type": "execute_result"
    }
   ],
   "source": [
    "np.arange(0,10,3, dtype='float64')"
   ]
  },
  {
   "cell_type": "markdown",
   "metadata": {},
   "source": [
    "linspace / (x,y,z) - x를 시작으로 y미만으로 z개의 숫자를 뽑아내라 / z와는 분포에 있어 동등하게 정규분포 "
   ]
  },
  {
   "cell_type": "code",
   "execution_count": 8,
   "metadata": {},
   "outputs": [
    {
     "data": {
      "text/plain": [
       "array([ 0.        ,  0.52631579,  1.05263158,  1.57894737,  2.10526316,\n",
       "        2.63157895,  3.15789474,  3.68421053,  4.21052632,  4.73684211,\n",
       "        5.26315789,  5.78947368,  6.31578947,  6.84210526,  7.36842105,\n",
       "        7.89473684,  8.42105263,  8.94736842,  9.47368421, 10.        ])"
      ]
     },
     "execution_count": 8,
     "metadata": {},
     "output_type": "execute_result"
    }
   ],
   "source": [
    "np.linspace(0,10,20, dtype=float)"
   ]
  },
  {
   "cell_type": "code",
   "execution_count": 18,
   "metadata": {},
   "outputs": [
    {
     "data": {
      "text/plain": [
       "array([[1, 2, 3],\n",
       "       [4, 5, 6]])"
      ]
     },
     "execution_count": 18,
     "metadata": {},
     "output_type": "execute_result"
    }
   ],
   "source": [
    "X = np.array([[1,2,3],[4,5,6]])\n",
    "X"
   ]
  },
  {
   "cell_type": "code",
   "execution_count": 21,
   "metadata": {},
   "outputs": [
    {
     "data": {
      "text/plain": [
       "array([[1., 2., 3.],\n",
       "       [4., 5., 6.]])"
      ]
     },
     "execution_count": 21,
     "metadata": {},
     "output_type": "execute_result"
    }
   ],
   "source": [
    "X.astype(np.float64)"
   ]
  },
  {
   "cell_type": "code",
   "execution_count": 23,
   "metadata": {},
   "outputs": [
    {
     "data": {
      "text/plain": [
       "array([[0, 0, 0],\n",
       "       [0, 0, 0]])"
      ]
     },
     "execution_count": 23,
     "metadata": {},
     "output_type": "execute_result"
    }
   ],
   "source": [
    "np.zeros_like(X)"
   ]
  },
  {
   "cell_type": "code",
   "execution_count": 5,
   "metadata": {},
   "outputs": [
    {
     "data": {
      "image/png": "[encoded data removed]",
      "text/plain": [
       "<Figure size 432x288 with 1 Axes>"
      ]
     },
     "metadata": {
      "needs_background": "light"
     },
     "output_type": "display_data"
    }
   ],
   "source": [
    "data = np.random.normal(0,1, 100)\n",
    "plt.hist(data, bins=10)\n",
    "plt.show()"
   ]
  },
  {
   "cell_type": "markdown",
   "metadata": {},
   "source": [
    "## 2. Manipulation"
   ]
  },
  {
   "cell_type": "markdown",
   "metadata": {},
   "source": [
    "3차원 매트릭스 직사각형이 큐브로 쌓여져 있다는 것을 볼수 있음 2곱하기 3곱하기 4의 3차원 이러한 3차원이 필요한 이유? 개념이 점점 확대가 되어\n",
    "쭉쭉 많이 늘리는 것이 차원을 늘려 2차원 그 이상의 숫자를 뽑아 내는 것이다. 1학년 / 남자 여자 / 안경쓴 사람 - 3차원에 따라 정보를 많이 담을 수 있게함 \n",
    "3차원인지 아닌지를 확인하는 방법 브랭킷이 3개 이면 3차원으로 보면 된다 [[[/ ]]]각각의 이덩어리안에 또 3개씩 들어가 있음 / 제일 작은 덩어리 개수는 4개 \n",
    "2개 3개 4개 따로 서있다 - 크게 두개로 나누고 / 또 그를 각각에 3개를 넣어 두고 / 그러한 것을 3개로 만든다 "
   ]
  },
  {
   "cell_type": "code",
   "execution_count": 12,
   "metadata": {
    "scrolled": true
   },
   "outputs": [
    {
     "data": {
      "text/plain": [
       "array([[[1., 1., 1., 1.],\n",
       "        [1., 1., 1., 1.],\n",
       "        [1., 1., 1., 1.]],\n",
       "\n",
       "       [[1., 1., 1., 1.],\n",
       "        [1., 1., 1., 1.],\n",
       "        [1., 1., 1., 1.]]])"
      ]
     },
     "execution_count": 12,
     "metadata": {},
     "output_type": "execute_result"
    }
   ],
   "source": [
    "X = np.ones([2, 3, 4])\n",
    "X"
   ]
  },
  {
   "cell_type": "markdown",
   "metadata": {},
   "source": [
    "텐서라는 말은 - 메트릭스가 2차원이라면 텐서는 n차원 메트릭스이다 2:3:4 의 엘리먼트의 수는 24개 이다 다 각각을 곱하면 된다 쉐이프를 다르게\n",
    "        할수있게 해주는 것이 Reshape이다 . 똑같은 메트릭스 형태로 만들려면 어딜 보더라도 직사각형으로 보이게 만들어야 한다. \n",
    "        세로 reshape을 한다고 칠 때 / inf 가능성 없음 / 2 7 8 이런식으로 숫자가 안맞으면 안된다 / 엘레먼트 숫자를 유지한상태에서 가능하다는 말임\n",
    "        총 곱만 같다면 "
   ]
  },
  {
   "cell_type": "code",
   "execution_count": 13,
   "metadata": {
    "scrolled": true
   },
   "outputs": [
    {
     "data": {
      "text/plain": [
       "array([[[1., 1., 1.],\n",
       "        [1., 1., 1.],\n",
       "        [1., 1., 1.],\n",
       "        [1., 1., 1.]],\n",
       "\n",
       "       [[1., 1., 1.],\n",
       "        [1., 1., 1.],\n",
       "        [1., 1., 1.],\n",
       "        [1., 1., 1.]]])"
      ]
     },
     "execution_count": 13,
     "metadata": {},
     "output_type": "execute_result"
    }
   ],
   "source": [
    "Y = X.reshape(2, 4, 3)\n",
    "Y"
   ]
  },
  {
   "cell_type": "code",
   "execution_count": 14,
   "metadata": {},
   "outputs": [
    {
     "data": {
      "text/plain": [
       "numpy.ndarray"
      ]
     },
     "execution_count": 14,
     "metadata": {},
     "output_type": "execute_result"
    }
   ],
   "source": [
    "type(Y)"
   ]
  },
  {
   "cell_type": "markdown",
   "metadata": {},
   "source": [
    "reshape은 차원도 바꿀수 있어요 "
   ]
  },
  {
   "cell_type": "code",
   "execution_count": 12,
   "metadata": {
    "scrolled": false
   },
   "outputs": [
    {
     "data": {
      "text/plain": [
       "array([[1., 1., 1., 1.],\n",
       "       [1., 1., 1., 1.],\n",
       "       [1., 1., 1., 1.],\n",
       "       [1., 1., 1., 1.],\n",
       "       [1., 1., 1., 1.],\n",
       "       [1., 1., 1., 1.]])"
      ]
     },
     "execution_count": 12,
     "metadata": {},
     "output_type": "execute_result"
    }
   ],
   "source": [
    "Y = X.reshape(6, 4)\n",
    "Y"
   ]
  },
  {
   "cell_type": "markdown",
   "metadata": {},
   "source": [
    "5차원이든 뭐든 상관없이 곱하기만 맞추면 되고 해석하는 방법에서도 a,b,c,d,e 이면 a로 크게 그 다음 b로 그 다음 c 그 다음 d 그 다음 e 이런식으로 구성이\n",
    "이루어지는 식의 해석으로 나아가는 것이다 "
   ]
  },
  {
   "cell_type": "code",
   "execution_count": 21,
   "metadata": {},
   "outputs": [
    {
     "data": {
      "text/plain": [
       "array([[[[[1.],\n",
       "          [1.]],\n",
       "\n",
       "         [[1.],\n",
       "          [1.]]],\n",
       "\n",
       "\n",
       "        [[[1.],\n",
       "          [1.]],\n",
       "\n",
       "         [[1.],\n",
       "          [1.]]],\n",
       "\n",
       "\n",
       "        [[[1.],\n",
       "          [1.]],\n",
       "\n",
       "         [[1.],\n",
       "          [1.]]]],\n",
       "\n",
       "\n",
       "\n",
       "       [[[[1.],\n",
       "          [1.]],\n",
       "\n",
       "         [[1.],\n",
       "          [1.]]],\n",
       "\n",
       "\n",
       "        [[[1.],\n",
       "          [1.]],\n",
       "\n",
       "         [[1.],\n",
       "          [1.]]],\n",
       "\n",
       "\n",
       "        [[[1.],\n",
       "          [1.]],\n",
       "\n",
       "         [[1.],\n",
       "          [1.]]]]])"
      ]
     },
     "execution_count": 21,
     "metadata": {},
     "output_type": "execute_result"
    }
   ],
   "source": [
    "Y = X.reshape(2,3,2,2,1)\n",
    "Y"
   ]
  },
  {
   "cell_type": "code",
   "execution_count": 11,
   "metadata": {
    "scrolled": false
   },
   "outputs": [
    {
     "ename": "TypeError",
     "evalue": "'float' object cannot be interpreted as an integer",
     "output_type": "error",
     "traceback": [
      "\u001b[0;31m---------------------------------------------------------------------------\u001b[0m",
      "\u001b[0;31mTypeError\u001b[0m                                 Traceback (most recent call last)",
      "\u001b[0;32m<ipython-input-11-fe5f52d7dfba>\u001b[0m in \u001b[0;36m<module>\u001b[0;34m\u001b[0m\n\u001b[0;32m----> 1\u001b[0;31m \u001b[0mY\u001b[0m \u001b[0;34m=\u001b[0m \u001b[0mX\u001b[0m\u001b[0;34m.\u001b[0m\u001b[0mreshape\u001b[0m\u001b[0;34m(\u001b[0m\u001b[0;36m7.5\u001b[0m\u001b[0;34m)\u001b[0m\u001b[0;34m\u001b[0m\u001b[0;34m\u001b[0m\u001b[0m\n\u001b[0m",
      "\u001b[0;31mTypeError\u001b[0m: 'float' object cannot be interpreted as an integer"
     ]
    }
   ],
   "source": [
    "Y = X.reshape(7.5)"
   ]
  },
  {
   "cell_type": "markdown",
   "metadata": {},
   "source": [
    "엘리먼트가 다르면 위에 처럼 되지 않는 다는 것을 알 수 있음 "
   ]
  },
  {
   "cell_type": "markdown",
   "metadata": {},
   "source": [
    "제일 앞에 것을 모르겠다라고 하면 -1을 넣으면 자동으로 계산된다 ( -1은 이전의 것 마지막 것의 개념이 아니라 reshape에서는 해당부분에 대한 채움)"
   ]
  },
  {
   "cell_type": "code",
   "execution_count": 13,
   "metadata": {
    "scrolled": true
   },
   "outputs": [
    {
     "data": {
      "text/plain": [
       "array([[[1., 1.],\n",
       "        [1., 1.],\n",
       "        [1., 1.]],\n",
       "\n",
       "       [[1., 1.],\n",
       "        [1., 1.],\n",
       "        [1., 1.]],\n",
       "\n",
       "       [[1., 1.],\n",
       "        [1., 1.],\n",
       "        [1., 1.]],\n",
       "\n",
       "       [[1., 1.],\n",
       "        [1., 1.],\n",
       "        [1., 1.]]])"
      ]
     },
     "execution_count": 13,
     "metadata": {},
     "output_type": "execute_result"
    }
   ],
   "source": [
    "Y = X.reshape(-1,3,2)\n",
    "Y "
   ]
  },
  {
   "cell_type": "code",
   "execution_count": null,
   "metadata": {},
   "outputs": [],
   "source": [
    "reshape을 하고 Y와 같은 것인지 확인 시켜주는 것이다 "
   ]
  },
  {
   "cell_type": "code",
   "execution_count": 39,
   "metadata": {},
   "outputs": [
    {
     "data": {
      "text/plain": [
       "True"
      ]
     },
     "execution_count": 39,
     "metadata": {},
     "output_type": "execute_result"
    }
   ],
   "source": [
    "np.allclose(X.reshape(-1, 3, 2), Y)"
   ]
  },
  {
   "cell_type": "code",
   "execution_count": 47,
   "metadata": {},
   "outputs": [],
   "source": [
    "assert np.allclose(X.reshape(-1, 3, 2), Y)"
   ]
  },
  {
   "cell_type": "markdown",
   "metadata": {},
   "source": [
    "같으면 아무말 안하고 다르면 에러 메세지 뜸니다. "
   ]
  },
  {
   "cell_type": "markdown",
   "metadata": {},
   "source": [
    "## 3. NumPy I/O"
   ]
  },
  {
   "cell_type": "markdown",
   "metadata": {},
   "source": [
    "인풋 과 아웃풋 외부에서 파일을 불러오고 내가 여기서 한것을 텍스트 파일에 불러오는 결과 값이다 "
   ]
  },
  {
   "cell_type": "markdown",
   "metadata": {},
   "source": [
    "a가 하는일은 0이상 10미만의 정수를 나오게 한다. 2곱하기 3의 2차를 랜덤으로 뽑는 녀석임 \n",
    "b가 하는일은 2바이 3를 만드는데 말그대로 랜덤한 녀석 float포함 - 0과 1 사이에서 랜덤으로 \n",
    "a와 b를 가지고 있음  - 끄면 없어짐 - 랜덤이니까 // 이 나온 배리아블을 저장하고 싶을때는 savez를 사용해서 저장하면 된다 a와 b는 우리가 만든 그녀석 \n",
    "현재 작업 폴더에 Test라는 파일으로 저장되어 오는것이다."
   ]
  },
  {
   "cell_type": "code",
   "execution_count": 24,
   "metadata": {},
   "outputs": [
    {
     "data": {
      "text/plain": [
       "array([[0, 9, 8],\n",
       "       [3, 2, 3]])"
      ]
     },
     "execution_count": 24,
     "metadata": {},
     "output_type": "execute_result"
    }
   ],
   "source": [
    "a = np.random.randint(0, 10, [2, 3])\n",
    "a"
   ]
  },
  {
   "cell_type": "code",
   "execution_count": 23,
   "metadata": {},
   "outputs": [
    {
     "data": {
      "text/plain": [
       "array([[0.79525849, 0.40944547, 0.56920027],\n",
       "       [0.99507234, 0.10383911, 0.91572244]])"
      ]
     },
     "execution_count": 23,
     "metadata": {},
     "output_type": "execute_result"
    }
   ],
   "source": [
    "b = np.random.random([2, 3])\n",
    "b"
   ]
  },
  {
   "cell_type": "code",
   "execution_count": 25,
   "metadata": {
    "scrolled": true
   },
   "outputs": [],
   "source": [
    "a = np.random.randint(0, 10, [2, 3])\n",
    "b = np.random.random([2, 3])\n",
    "np.savez(\"test\", a, b)"
   ]
  },
  {
   "cell_type": "markdown",
   "metadata": {},
   "source": [
    "맥 시스템 자체가 유닉스를 사용하고 있어서 적용된것이다. "
   ]
  },
  {
   "cell_type": "markdown",
   "metadata": {},
   "source": [
    "현재 파일에 있는 것들을 적어 놓은 것 / !는 리눅스 명령어임 "
   ]
  },
  {
   "cell_type": "code",
   "execution_count": 19,
   "metadata": {
    "scrolled": true
   },
   "outputs": [
    {
     "name": "stdout",
     "output_type": "stream",
     "text": [
      "\u001b[31m06_01.txt\u001b[m\u001b[m            \u001b[31mextractINFO.ipynb\u001b[m\u001b[m    \u001b[31mregression_saved.csv\u001b[m\u001b[m\r\n",
      "\u001b[31mREADME.md\u001b[m\u001b[m            \u001b[31mnlp.ipynb\u001b[m\u001b[m            \u001b[31msound.ipynb\u001b[m\u001b[m\r\n",
      "\u001b[31ma.wav\u001b[m\u001b[m                \u001b[31mnormalization.ipynb\u001b[m\u001b[m  \u001b[31mstring.ipynb\u001b[m\u001b[m\r\n",
      "\u001b[31mannKR.ipynb\u001b[m\u001b[m          \u001b[31mnumpy.ipynb\u001b[m\u001b[m          \u001b[31msyntax.ipynb\u001b[m\u001b[m\r\n",
      "\u001b[31mcnnKR.ipynb\u001b[m\u001b[m          \u001b[31mregexp.ipynb\u001b[m\u001b[m         \u001b[31mtest.npz\u001b[m\u001b[m\r\n",
      "\u001b[31mcrawling.csv\u001b[m\u001b[m         \u001b[31mregression.csv\u001b[m\u001b[m       \u001b[31mvariables.ipynb\u001b[m\u001b[m\r\n",
      "\u001b[31mcrawling.ipynb\u001b[m\u001b[m       \u001b[31mregressionKR.ipynb\u001b[m\u001b[m\r\n",
      "\u001b[31mdoc.txt\u001b[m\u001b[m              \u001b[31mregressionTF.ipynb\u001b[m\u001b[m\r\n"
     ]
    }
   ],
   "source": [
    "!ls"
   ]
  },
  {
   "cell_type": "markdown",
   "metadata": {},
   "source": [
    "test* 뒤의 테스트라는 것을 찾아라라는 것을 증명해 줄라고 "
   ]
  },
  {
   "cell_type": "code",
   "execution_count": 18,
   "metadata": {
    "scrolled": true
   },
   "outputs": [
    {
     "name": "stdout",
     "output_type": "stream",
     "text": [
      "-rwxr-xr-x@ 1 shinhe  staff  562 Apr  4 14:14 \u001b[31mtest.npz\u001b[m\u001b[m\r\n"
     ]
    }
   ],
   "source": [
    "!ls -al test*"
   ]
  },
  {
   "cell_type": "markdown",
   "metadata": {},
   "source": [
    " del a,b가 없다고 치자 - delete를 지운다는 것이다- ab를 지운다는 것이다  / who는 메모리에 어떠한 variable들이 있는지 %하고 who를 하면 현재 내가 만들어 놓은거 다 알려줌 "
   ]
  },
  {
   "cell_type": "code",
   "execution_count": 22,
   "metadata": {},
   "outputs": [
    {
     "name": "stdout",
     "output_type": "stream",
     "text": [
      "X\t Y\t a\t b\t np\t plt\t \n"
     ]
    }
   ],
   "source": [
    "%who "
   ]
  },
  {
   "cell_type": "code",
   "execution_count": 23,
   "metadata": {},
   "outputs": [
    {
     "name": "stdout",
     "output_type": "stream",
     "text": [
      "X\t Y\t np\t plt\t \n"
     ]
    }
   ],
   "source": [
    "del a, b\n",
    "%who"
   ]
  },
  {
   "cell_type": "markdown",
   "metadata": {},
   "source": [
    "a,b를 없애고 a,b를 새롭게 불러오는 것을 보여주고 싶을 때 / 밑부분 참고 / "
   ]
  },
  {
   "cell_type": "code",
   "execution_count": 27,
   "metadata": {},
   "outputs": [
    {
     "data": {
      "text/plain": [
       "['arr_0', 'arr_1']"
      ]
     },
     "execution_count": 27,
     "metadata": {},
     "output_type": "execute_result"
    }
   ],
   "source": [
    "npzfiles = np.load(\"test.npz\")\n",
    "npzfiles.files"
   ]
  },
  {
   "cell_type": "markdown",
   "metadata": {},
   "source": [
    "_0은 a값 _1은 b값임 - 그것을 파일즈해서 처보면 그것이 들어온다는 것을 알 수 있다 - 해당된 부분ㅇ 들어오는 것을 알 수 있다 "
   ]
  },
  {
   "cell_type": "code",
   "execution_count": 29,
   "metadata": {},
   "outputs": [
    {
     "data": {
      "text/plain": [
       "array([[4, 9, 3],\n",
       "       [4, 3, 6]])"
      ]
     },
     "execution_count": 29,
     "metadata": {},
     "output_type": "execute_result"
    }
   ],
   "source": [
    "npzfiles['arr_0']"
   ]
  },
  {
   "cell_type": "markdown",
   "metadata": {},
   "source": [
    "그 숫자들을 불러내서 베리어블로 보내는 것 - 폴더에 regression 함수가 있고(csv/셀로 열리는 파일) 그 안에는 x,y가 있다고 가정하자.\n",
    "저걸 어떻게 받아 오는가? np.loadtext - 파일이름을 적고 - delimiter를 해서 csv파일의 특징 실제로는 x,y - csv - 콤마로만 delete되어 있다\n",
    "첫번째 로우는 그냥 헤더 정도 skiprows = 1 첫번째꺼 없앤다는 거임 datatype - names하고 x와 y하면 / 실행하고 데이터를 보면 "
   ]
  },
  {
   "cell_type": "code",
   "execution_count": 30,
   "metadata": {
    "scrolled": false
   },
   "outputs": [
    {
     "data": {
      "text/plain": [
       "array([( 3.3  , 1.7  ), ( 4.4  , 2.76 ), ( 5.5  , 2.09 ), ( 6.71 , 3.19 ),\n",
       "       ( 6.93 , 1.694), ( 4.168, 1.573), ( 9.779, 3.366), ( 6.182, 2.596),\n",
       "       ( 7.59 , 2.53 ), ( 2.167, 1.221), ( 7.042, 2.827), (10.791, 3.465),\n",
       "       ( 5.313, 1.65 ), ( 7.997, 2.904), ( 5.654, 2.42 ), ( 9.27 , 2.94 ),\n",
       "       ( 3.1  , 1.3  )], dtype=[('X', '<f4'), ('Y', '<f4')])"
      ]
     },
     "execution_count": 30,
     "metadata": {},
     "output_type": "execute_result"
    }
   ],
   "source": [
    "data = np.loadtxt(\"regression.csv\", delimiter=\",\", skiprows=1, dtype={'names':(\"X\", \"Y\"), 'formats':('f', 'f')})\n",
    "data"
   ]
  },
  {
   "cell_type": "code",
   "execution_count": 31,
   "metadata": {},
   "outputs": [
    {
     "data": {
      "text/plain": [
       "(17,)"
      ]
     },
     "execution_count": 31,
     "metadata": {},
     "output_type": "execute_result"
    }
   ],
   "source": [
    "data = np.loadtxt(\"regression.csv\", delimiter=\",\", skiprows=1, dtype={'names':(\"X\", \"Y\"), 'formats':('f', 'f')})\n",
    "data.shape"
   ]
  },
  {
   "cell_type": "markdown",
   "metadata": {},
   "source": [
    "한칼럼이 받아졌음 - 17로 총 17개 주 - 튜플안에는 x,y의 정보 - 필요한 정보를 access해서 불러온거임 "
   ]
  },
  {
   "cell_type": "markdown",
   "metadata": {},
   "source": [
    "지금 받아진 data를 다시 save를 하는 방법 / save txt하고 이름하는거 input out 사용하는 방법 "
   ]
  },
  {
   "cell_type": "code",
   "execution_count": 33,
   "metadata": {},
   "outputs": [
    {
     "name": "stdout",
     "output_type": "stream",
     "text": [
      "-rwxr-xr-x@ 1 shinhe  staff  850 Apr  4 14:30 \u001b[31mregression_saved.csv\u001b[m\u001b[m\r\n"
     ]
    }
   ],
   "source": [
    "np.savetxt(\"regression_saved.csv\", data, delimiter=\",\")\n",
    "!ls -al regression_saved.csv"
   ]
  },
  {
   "cell_type": "markdown",
   "metadata": {},
   "source": [
    "## 4. Inspecting"
   ]
  },
  {
   "cell_type": "markdown",
   "metadata": {},
   "source": [
    "타입등을 조사하고 검사해보자 "
   ]
  },
  {
   "cell_type": "code",
   "execution_count": 34,
   "metadata": {},
   "outputs": [
    {
     "data": {
      "text/plain": [
       "array([[[0.7080419 , 0.50353517, 0.77880935],\n",
       "        [0.23997518, 0.81676326, 0.00501386]],\n",
       "\n",
       "       [[0.75539525, 0.73111748, 0.84773662],\n",
       "        [0.90460384, 0.37413202, 0.23484   ]],\n",
       "\n",
       "       [[0.86625601, 0.2133872 , 0.62248588],\n",
       "        [0.84674464, 0.92885589, 0.6723925 ]],\n",
       "\n",
       "       [[0.23989668, 0.164582  , 0.65454004],\n",
       "        [0.08746563, 0.02279309, 0.97885187]],\n",
       "\n",
       "       [[0.32577723, 0.5621229 , 0.46953668],\n",
       "        [0.51883808, 0.52274455, 0.4798508 ]]])"
      ]
     },
     "execution_count": 34,
     "metadata": {},
     "output_type": "execute_result"
    }
   ],
   "source": [
    "arr = np.random.random([5,2,3])\n",
    "arr"
   ]
  },
  {
   "cell_type": "markdown",
   "metadata": {},
   "source": [
    "랭쓰는 제일 앞에 것만 받아온다  / ndimm 차원 / size는 다 곱한거 / dtype은 데이터 타입 - float"
   ]
  },
  {
   "cell_type": "code",
   "execution_count": 35,
   "metadata": {},
   "outputs": [
    {
     "name": "stdout",
     "output_type": "stream",
     "text": [
      "<class 'numpy.ndarray'>\n",
      "5\n",
      "(5, 2, 3)\n",
      "3\n",
      "30\n",
      "float64\n"
     ]
    }
   ],
   "source": [
    "print(type(arr))\n",
    "print(len(arr))\n",
    "print(arr.shape)\n",
    "print(arr.ndim)\n",
    "print(arr.size)\n",
    "print(arr.dtype)\n"
   ]
  },
  {
   "cell_type": "markdown",
   "metadata": {},
   "source": [
    "## 5. Operations"
   ]
  },
  {
   "cell_type": "markdown",
   "metadata": {},
   "source": [
    "### 5.1 Arithmetic"
   ]
  },
  {
   "cell_type": "code",
   "execution_count": null,
   "metadata": {},
   "outputs": [],
   "source": [
    "a,b 값 한꺼번에 다 나오게 하려면 a,b 로 표현 "
   ]
  },
  {
   "cell_type": "code",
   "execution_count": 38,
   "metadata": {},
   "outputs": [
    {
     "data": {
      "text/plain": [
       "(array([1, 2, 3, 4]), array([9, 8, 7, 6]))"
      ]
     },
     "execution_count": 38,
     "metadata": {},
     "output_type": "execute_result"
    }
   ],
   "source": [
    "a = np.arange(1, 5)\n",
    "b = np.arange(9, 5, -1)\n",
    "a, b "
   ]
  },
  {
   "cell_type": "markdown",
   "metadata": {},
   "source": [
    "튜플로 나온다 / 1차원짜리 크기가 똑같은 것이니 서로 사칙연산 "
   ]
  },
  {
   "cell_type": "markdown",
   "metadata": {},
   "source": [
    "어떻게 두 백터가 곱해지나? 메트릭스가 아니라 그냥 나열인 array니까 계산이 되는거다 / 엘레멘트끼리 곱해지는거 행렬의 구성처럼 생긴 행렬아닌 녀석이다"
   ]
  },
  {
   "cell_type": "code",
   "execution_count": 41,
   "metadata": {
    "scrolled": true
   },
   "outputs": [
    {
     "name": "stdout",
     "output_type": "stream",
     "text": [
      "[-8 -6 -4 -2]\n",
      "[ 9 16 21 24]\n"
     ]
    }
   ],
   "source": [
    "print(a - b)\n",
    "print(a * b)\n"
   ]
  },
  {
   "cell_type": "markdown",
   "metadata": {},
   "source": [
    "이를 통해 행렬화 하여야 한다. "
   ]
  },
  {
   "cell_type": "code",
   "execution_count": 44,
   "metadata": {},
   "outputs": [
    {
     "data": {
      "text/plain": [
       "(matrix([[1, 2, 3, 4]]), matrix([[9, 8, 7, 6]]))"
      ]
     },
     "execution_count": 44,
     "metadata": {},
     "output_type": "execute_result"
    }
   ],
   "source": [
    "a = np.matrix(a)\n",
    "b = np.matrix(b)\n",
    "a,b"
   ]
  },
  {
   "cell_type": "markdown",
   "metadata": {
    "collapsed": true
   },
   "source": [
    "메트릭스로 바뀌는 순간 차원을 증명하기 위해 [[ 2개로 표현 되었다 ]] !!! 그러나 메트릭스가 아닌 n.array도 차원적 개념으로 접근해야한다 / 메트릭스\n",
    "만이 차원적이야기로 보면안된다 . 위에서 reshape Y를 정의한 부분을 찾아서 그것의 차원 및 type을 써놓은 것을 확인해보아라 "
   ]
  },
  {
   "cell_type": "code",
   "execution_count": 46,
   "metadata": {
    "collapsed": true
   },
   "outputs": [
    {
     "name": "stdout",
     "output_type": "stream",
     "text": [
      "[[-8 -6 -4 -2]]\n"
     ]
    },
    {
     "ename": "ValueError",
     "evalue": "shapes (1,4) and (1,4) not aligned: 4 (dim 1) != 1 (dim 0)",
     "output_type": "error",
     "traceback": [
      "\u001b[0;31m---------------------------------------------------------------------------\u001b[0m",
      "\u001b[0;31mValueError\u001b[0m                                Traceback (most recent call last)",
      "\u001b[0;32m<ipython-input-46-c5240b5947b7>\u001b[0m in \u001b[0;36m<module>\u001b[0;34m\u001b[0m\n\u001b[1;32m      1\u001b[0m \u001b[0mprint\u001b[0m\u001b[0;34m(\u001b[0m\u001b[0ma\u001b[0m \u001b[0;34m-\u001b[0m \u001b[0mb\u001b[0m\u001b[0;34m)\u001b[0m\u001b[0;34m\u001b[0m\u001b[0;34m\u001b[0m\u001b[0m\n\u001b[0;32m----> 2\u001b[0;31m \u001b[0mprint\u001b[0m\u001b[0;34m(\u001b[0m\u001b[0ma\u001b[0m \u001b[0;34m*\u001b[0m \u001b[0mb\u001b[0m\u001b[0;34m)\u001b[0m\u001b[0;34m\u001b[0m\u001b[0;34m\u001b[0m\u001b[0m\n\u001b[0m",
      "\u001b[0;32m~/anaconda3/lib/python3.7/site-packages/numpy/matrixlib/defmatrix.py\u001b[0m in \u001b[0;36m__mul__\u001b[0;34m(self, other)\u001b[0m\n\u001b[1;32m    213\u001b[0m         \u001b[0;32mif\u001b[0m \u001b[0misinstance\u001b[0m\u001b[0;34m(\u001b[0m\u001b[0mother\u001b[0m\u001b[0;34m,\u001b[0m \u001b[0;34m(\u001b[0m\u001b[0mN\u001b[0m\u001b[0;34m.\u001b[0m\u001b[0mndarray\u001b[0m\u001b[0;34m,\u001b[0m \u001b[0mlist\u001b[0m\u001b[0;34m,\u001b[0m \u001b[0mtuple\u001b[0m\u001b[0;34m)\u001b[0m\u001b[0;34m)\u001b[0m \u001b[0;34m:\u001b[0m\u001b[0;34m\u001b[0m\u001b[0;34m\u001b[0m\u001b[0m\n\u001b[1;32m    214\u001b[0m             \u001b[0;31m# This promotes 1-D vectors to row vectors\u001b[0m\u001b[0;34m\u001b[0m\u001b[0;34m\u001b[0m\u001b[0;34m\u001b[0m\u001b[0m\n\u001b[0;32m--> 215\u001b[0;31m             \u001b[0;32mreturn\u001b[0m \u001b[0mN\u001b[0m\u001b[0;34m.\u001b[0m\u001b[0mdot\u001b[0m\u001b[0;34m(\u001b[0m\u001b[0mself\u001b[0m\u001b[0;34m,\u001b[0m \u001b[0masmatrix\u001b[0m\u001b[0;34m(\u001b[0m\u001b[0mother\u001b[0m\u001b[0;34m)\u001b[0m\u001b[0;34m)\u001b[0m\u001b[0;34m\u001b[0m\u001b[0;34m\u001b[0m\u001b[0m\n\u001b[0m\u001b[1;32m    216\u001b[0m         \u001b[0;32mif\u001b[0m \u001b[0misscalar\u001b[0m\u001b[0;34m(\u001b[0m\u001b[0mother\u001b[0m\u001b[0;34m)\u001b[0m \u001b[0;32mor\u001b[0m \u001b[0;32mnot\u001b[0m \u001b[0mhasattr\u001b[0m\u001b[0;34m(\u001b[0m\u001b[0mother\u001b[0m\u001b[0;34m,\u001b[0m \u001b[0;34m'__rmul__'\u001b[0m\u001b[0;34m)\u001b[0m \u001b[0;34m:\u001b[0m\u001b[0;34m\u001b[0m\u001b[0;34m\u001b[0m\u001b[0m\n\u001b[1;32m    217\u001b[0m             \u001b[0;32mreturn\u001b[0m \u001b[0mN\u001b[0m\u001b[0;34m.\u001b[0m\u001b[0mdot\u001b[0m\u001b[0;34m(\u001b[0m\u001b[0mself\u001b[0m\u001b[0;34m,\u001b[0m \u001b[0mother\u001b[0m\u001b[0;34m)\u001b[0m\u001b[0;34m\u001b[0m\u001b[0;34m\u001b[0m\u001b[0m\n",
      "\u001b[0;31mValueError\u001b[0m: shapes (1,4) and (1,4) not aligned: 4 (dim 1) != 1 (dim 0)"
     ]
    }
   ],
   "source": [
    "print(a - b)\n",
    "print(a * b)"
   ]
  },
  {
   "cell_type": "markdown",
   "metadata": {},
   "source": [
    "곱셈이 안되는 것을 볼 수 있다 / 이를 통해 트렌스 포즈로 바꿔서 해야한다 "
   ]
  },
  {
   "cell_type": "code",
   "execution_count": 51,
   "metadata": {
    "scrolled": true
   },
   "outputs": [],
   "source": [
    "c = b.T"
   ]
  },
  {
   "cell_type": "code",
   "execution_count": 52,
   "metadata": {
    "scrolled": false
   },
   "outputs": [
    {
     "name": "stdout",
     "output_type": "stream",
     "text": [
      "[[-8 -7 -6 -5]\n",
      " [-7 -6 -5 -4]\n",
      " [-6 -5 -4 -3]\n",
      " [-5 -4 -3 -2]]\n",
      "[[70]]\n"
     ]
    }
   ],
   "source": [
    "print(a - c)\n",
    "print(a * c)"
   ]
  },
  {
   "cell_type": "code",
   "execution_count": 130,
   "metadata": {},
   "outputs": [
    {
     "data": {
      "text/plain": [
       "matrix([[ 9,  8,  7,  6],\n",
       "        [18, 16, 14, 12],\n",
       "        [27, 24, 21, 18],\n",
       "        [36, 32, 28, 24]])"
      ]
     },
     "execution_count": 130,
     "metadata": {},
     "output_type": "execute_result"
    }
   ],
   "source": [
    "a.T * b"
   ]
  },
  {
   "cell_type": "markdown",
   "metadata": {},
   "source": [
    "### 5.2 Comparison"
   ]
  },
  {
   "cell_type": "code",
   "execution_count": 54,
   "metadata": {},
   "outputs": [
    {
     "name": "stdout",
     "output_type": "stream",
     "text": [
      "[[1 2 3]\n",
      " [4 5 6]\n",
      " [7 8 9]]\n",
      "[[9 8 7]\n",
      " [6 5 4]\n",
      " [3 2 1]]\n",
      "<class 'numpy.ndarray'>\n"
     ]
    }
   ],
   "source": [
    "a = np.arange(1, 10).reshape(3,3)\n",
    "b = np.arange(9, 0, -1).reshape(3,3)\n",
    "print(a)\n",
    "print(b)\n",
    "print(type(a))"
   ]
  },
  {
   "cell_type": "markdown",
   "metadata": {
    "collapsed": true
   },
   "source": [
    "바로 reshape를 붙여서 array를 만들어 준다 / 1부터 9까지 엘리먼트는 9개를 3*3으로 "
   ]
  },
  {
   "cell_type": "code",
   "execution_count": 149,
   "metadata": {},
   "outputs": [
    {
     "data": {
      "text/plain": [
       "array([[False, False, False],\n",
       "       [False,  True, False],\n",
       "       [False, False, False]])"
      ]
     },
     "execution_count": 149,
     "metadata": {},
     "output_type": "execute_result"
    }
   ],
   "source": [
    "a == b"
   ]
  },
  {
   "cell_type": "code",
   "execution_count": null,
   "metadata": {},
   "outputs": [],
   "source": [
    "a와 b의 각 원소 값이 맞는지 아닌지 확인해주는거 "
   ]
  },
  {
   "cell_type": "code",
   "execution_count": 150,
   "metadata": {
    "scrolled": true
   },
   "outputs": [
    {
     "data": {
      "text/plain": [
       "array([[False, False, False],\n",
       "       [False, False,  True],\n",
       "       [ True,  True,  True]])"
      ]
     },
     "execution_count": 150,
     "metadata": {},
     "output_type": "execute_result"
    }
   ],
   "source": [
    "a > b"
   ]
  },
  {
   "cell_type": "markdown",
   "metadata": {},
   "source": [
    "### 5.3 Aggregate (sum, min, max, mean, median, std)"
   ]
  },
  {
   "cell_type": "markdown",
   "metadata": {},
   "source": [
    "기존의 a를 차용한 상태에서 / sum하라 라는 것은 - 두개의 방법으로 a에서 그대로 np에서 sum을 불러와서 사용 - 값은 같다 "
   ]
  },
  {
   "cell_type": "code",
   "execution_count": 160,
   "metadata": {},
   "outputs": [
    {
     "data": {
      "text/plain": [
       "(45, 45)"
      ]
     },
     "execution_count": 160,
     "metadata": {},
     "output_type": "execute_result"
    }
   ],
   "source": [
    "a.sum(), np.sum(a)"
   ]
  },
  {
   "cell_type": "markdown",
   "metadata": {},
   "source": [
    "한꺼번에 sum하는 것이 아니라 3*3를 한쪽방향으로 썸 - 왼에서 오른쪽 / 위에서 아래 axis = 0 하나의 축을 선택한 것 - axis 0는 3 * 3 는 low\n",
    "부분으로 sum을 해라 즉 1 열 1+4+7 = 12 "
   ]
  },
  {
   "cell_type": "code",
   "execution_count": 161,
   "metadata": {},
   "outputs": [
    {
     "data": {
      "text/plain": [
       "(array([12, 15, 18]), array([12, 15, 18]))"
      ]
     },
     "execution_count": 161,
     "metadata": {},
     "output_type": "execute_result"
    }
   ],
   "source": [
    "a.sum(axis=0), np.sum(a, axis=0)"
   ]
  },
  {
   "cell_type": "code",
   "execution_count": 162,
   "metadata": {},
   "outputs": [
    {
     "data": {
      "text/plain": [
       "(array([ 6, 15, 24]), array([ 6, 15, 24]))"
      ]
     },
     "execution_count": 162,
     "metadata": {},
     "output_type": "execute_result"
    }
   ],
   "source": [
    "a.sum(axis=1), np.sum(a, axis=1)"
   ]
  },
  {
   "cell_type": "code",
   "execution_count": null,
   "metadata": {},
   "outputs": [],
   "source": [
    "axis = 1 은 low말고 왼쪽으로 다 더한다요 "
   ]
  },
  {
   "cell_type": "markdown",
   "metadata": {},
   "source": [
    "## Broadcasting"
   ]
  },
  {
   "cell_type": "code",
   "execution_count": 15,
   "metadata": {
    "scrolled": true
   },
   "outputs": [
    {
     "data": {
      "text/plain": [
       "array([[ 1,  2,  3,  4,  5,  6],\n",
       "       [ 7,  8,  9, 10, 11, 12],\n",
       "       [13, 14, 15, 16, 17, 18],\n",
       "       [19, 20, 21, 22, 23, 24]])"
      ]
     },
     "execution_count": 15,
     "metadata": {},
     "output_type": "execute_result"
    }
   ],
   "source": [
    "a = np.arange(1, 25).reshape(4, 6)\n",
    "a"
   ]
  },
  {
   "cell_type": "code",
   "execution_count": 16,
   "metadata": {},
   "outputs": [
    {
     "data": {
      "text/plain": [
       "array([[101, 102, 103, 104, 105, 106],\n",
       "       [107, 108, 109, 110, 111, 112],\n",
       "       [113, 114, 115, 116, 117, 118],\n",
       "       [119, 120, 121, 122, 123, 124]])"
      ]
     },
     "execution_count": 16,
     "metadata": {},
     "output_type": "execute_result"
    }
   ],
   "source": [
    "a + 100"
   ]
  },
  {
   "cell_type": "code",
   "execution_count": 17,
   "metadata": {},
   "outputs": [
    {
     "data": {
      "text/plain": [
       "array([0, 1, 2, 3, 4, 5])"
      ]
     },
     "execution_count": 17,
     "metadata": {},
     "output_type": "execute_result"
    }
   ],
   "source": [
    "b = np.arange(6)\n",
    "b"
   ]
  },
  {
   "cell_type": "markdown",
   "metadata": {},
   "source": [
    "2차원과 1차원의 계산  - 메트릭스가 아니니까 더하기가 된다 / 단 가능한 부분만 더해주는 것이고 가능하지 않은 부분에 대해서는 더하기나 뺼셈이 적용 되지 않는다\n"
   ]
  },
  {
   "cell_type": "code",
   "execution_count": 18,
   "metadata": {},
   "outputs": [
    {
     "data": {
      "text/plain": [
       "array([[ 1,  3,  5,  7,  9, 11],\n",
       "       [ 7,  9, 11, 13, 15, 17],\n",
       "       [13, 15, 17, 19, 21, 23],\n",
       "       [19, 21, 23, 25, 27, 29]])"
      ]
     },
     "execution_count": 18,
     "metadata": {},
     "output_type": "execute_result"
    }
   ],
   "source": [
    "a+b"
   ]
  },
  {
   "cell_type": "code",
   "execution_count": 63,
   "metadata": {
    "scrolled": true
   },
   "outputs": [
    {
     "data": {
      "text/plain": [
       "array([[0],\n",
       "       [1],\n",
       "       [2],\n",
       "       [3]])"
      ]
     },
     "execution_count": 63,
     "metadata": {},
     "output_type": "execute_result"
    }
   ],
   "source": [
    "c = np.arange(4).reshape([4,1])\n",
    "c"
   ]
  },
  {
   "cell_type": "code",
   "execution_count": 64,
   "metadata": {},
   "outputs": [
    {
     "data": {
      "text/plain": [
       "array([[ 1,  2,  3,  4,  5,  6],\n",
       "       [ 8,  9, 10, 11, 12, 13],\n",
       "       [15, 16, 17, 18, 19, 20],\n",
       "       [22, 23, 24, 25, 26, 27]])"
      ]
     },
     "execution_count": 64,
     "metadata": {},
     "output_type": "execute_result"
    }
   ],
   "source": [
    "a + c"
   ]
  },
  {
   "cell_type": "markdown",
   "metadata": {},
   "source": [
    "## Array copying"
   ]
  },
  {
   "cell_type": "code",
   "execution_count": null,
   "metadata": {},
   "outputs": [],
   "source": [
    "a = np.random.randint(0, 9, (3, 3))"
   ]
  }
 ],
 "metadata": {
  "kernelspec": {
   "display_name": "Python 3",
   "language": "python",
   "name": "python3"
  },
  "language_info": {
   "codemirror_mode": {
    "name": "ipython",
    "version": 3
   },
   "file_extension": ".py",
   "mimetype": "text/x-python",
   "name": "python",
   "nbconvert_exporter": "python",
   "pygments_lexer": "ipython3",
   "version": "3.7.1"
  }
 },
 "nbformat": 4,
 "nbformat_minor": 2
}
