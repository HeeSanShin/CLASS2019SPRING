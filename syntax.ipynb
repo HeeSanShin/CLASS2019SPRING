{
 "cells": [
  {
   "cell_type": "markdown",
   "metadata": {},
   "source": [
    "#### 폴루프를 돌린다 --loop를 돌리고 조건을 만족시키면 그 신텍스는 만족하는 것이다 (자동화)\n"
   ]
  },
  {
   "cell_type": "markdown",
   "metadata": {},
   "source": [
    "##### 끝났다는 것을 아는 방법 - indentation(들여쓰기)이라는 것을 반드시 해야한다. \n",
    "##### 탭을 눌러서 인덴테이션을 하는 것이다 한칸을 띄운것이 인덴테이션 된 것이다 \n",
    "##### 이를 안띄우면 다시 독립적으로 노는 것이다\n"
   ]
  },
  {
   "cell_type": "code",
   "execution_count": 1,
   "metadata": {},
   "outputs": [
    {
     "name": "stdout",
     "output_type": "stream",
     "text": [
      "6\n",
      "7\n",
      "8\n",
      "9\n"
     ]
    }
   ],
   "source": [
    "a = [6, 7, 8, 9]\n",
    "for i in a:\n",
    "    print(i)"
   ]
  },
  {
   "cell_type": "markdown",
   "metadata": {},
   "source": [
    "##### 1행 for a에 있는 것을 하나 하나씩 in a 에이 에 있는 것 을 총 4개를 각각 돌리겠다 이를 i로 받아서 내부적 들임. \n",
    "##### for i(1개씩 받는 거/ i로 받는 것 )  in a(여러개가 한꺼번에 다 있는 거)\n",
    "ex)  for 영문학과 in 고려대학교 하나하나씩 들어가게 하는 것으로 생각하면 된다 \n",
    "##### loop one  = 6 loop two = 7/  3  = 8 / 4 = 9  \n",
    "##### 제일 오른쪽에 :을 해줘야 한다 + 위에 대전제 처럼 indentation! \n"
   ]
  },
  {
   "cell_type": "code",
   "execution_count": 2,
   "metadata": {},
   "outputs": [
    {
     "data": {
      "text/plain": [
       "[6, 7, 8, 9]"
      ]
     },
     "execution_count": 2,
     "metadata": {},
     "output_type": "execute_result"
    }
   ],
   "source": [
    "a "
   ]
  },
  {
   "cell_type": "code",
   "execution_count": 3,
   "metadata": {
    "scrolled": false
   },
   "outputs": [
    {
     "data": {
      "text/plain": [
       "4"
      ]
     },
     "execution_count": 3,
     "metadata": {},
     "output_type": "execute_result"
    }
   ],
   "source": [
    "len(a)"
   ]
  },
  {
   "cell_type": "markdown",
   "metadata": {},
   "source": [
    "length를 말한다 "
   ]
  },
  {
   "cell_type": "code",
   "execution_count": null,
   "metadata": {},
   "outputs": [],
   "source": [
    "range(4)"
   ]
  },
  {
   "cell_type": "markdown",
   "metadata": {},
   "source": [
    "range라는 범위를 말하며 0이상 4미만으로 표현된다 "
   ]
  },
  {
   "cell_type": "code",
   "execution_count": 10,
   "metadata": {
    "collapsed": true
   },
   "outputs": [
    {
     "name": "stdout",
     "output_type": "stream",
     "text": [
      "0\n",
      "1\n",
      "2\n",
      "3\n"
     ]
    }
   ],
   "source": [
    "a = [6, 7, 8, 9]\n",
    "for i in range(len(a)):\n",
    "    print(i)"
   ]
  },
  {
   "cell_type": "code",
   "execution_count": 8,
   "metadata": {
    "collapsed": true
   },
   "outputs": [
    {
     "name": "stdout",
     "output_type": "stream",
     "text": [
      "6\n",
      "7\n",
      "8\n",
      "9\n"
     ]
    }
   ],
   "source": [
    "a = [6, 7, 8, 9]\n",
    "for i in range(len(a)):\n",
    "    print(i+6)"
   ]
  },
  {
   "cell_type": "markdown",
   "metadata": {},
   "source": [
    "### in 부분을 range라고 해서 숫자를 받는 방법\n",
    "range라는 함수 range에다가 len(a)를 넣으면 a변수의 개수를 주는것이다\n",
    "len(a) = 4 그냥 리스트의 개수를 말하는 것이다 \n",
    "len는 말그대로 0부터 시작하니 a와 맞춰주기위해 +6을 해준것이다 "
   ]
  },
  {
   "cell_type": "code",
   "execution_count": 9,
   "metadata": {
    "collapsed": true
   },
   "outputs": [
    {
     "name": "stdout",
     "output_type": "stream",
     "text": [
      "6\n",
      "7\n",
      "8\n",
      "9\n"
     ]
    }
   ],
   "source": [
    "a = [6, 7, 8, 9]\n",
    "for i in range(len(a)):\n",
    "    print(a[i])"
   ]
  },
  {
   "cell_type": "markdown",
   "metadata": {},
   "source": [
    "#### print함수를 아예 a를 기준으로 맞춰버리는 방식 "
   ]
  },
  {
   "cell_type": "markdown",
   "metadata": {},
   "source": [
    "# 리스트함수 : 인덱스에 문자를 집어넣고 이를 for loop돌려 보기 "
   ]
  },
  {
   "cell_type": "code",
   "execution_count": 9,
   "metadata": {},
   "outputs": [
    {
     "name": "stdout",
     "output_type": "stream",
     "text": [
      "red\n",
      "green\n",
      "blue\n",
      "purple\n"
     ]
    }
   ],
   "source": [
    "a = ['red', 'green', 'blue', 'purple']\n",
    "for i in a:\n",
    "    print(i)"
   ]
  },
  {
   "cell_type": "code",
   "execution_count": 10,
   "metadata": {
    "scrolled": false
   },
   "outputs": [
    {
     "name": "stdout",
     "output_type": "stream",
     "text": [
      "red\n",
      "green\n",
      "blue\n",
      "purple\n"
     ]
    }
   ],
   "source": [
    "a = ['red', 'green', 'blue', 'purple']\n",
    "for i in range(len(a)):\n",
    "    print(a[i])"
   ]
  },
  {
   "cell_type": "markdown",
   "metadata": {},
   "source": [
    "### 서로 다른 두개의 리스트를 for loop를 사용해 묶기 "
   ]
  },
  {
   "cell_type": "markdown",
   "metadata": {},
   "source": [
    "##### 방법 1. enumerate를 사용하기 \n",
    "\n",
    "list가 a와 b 두개가 있다. 두개의 개수가 페어라고 가정했을 때 \n",
    "a는 index b는 확률  i는 루프의 횟수 0,1,2,3, \n",
    "폴루트로 한번에 나오게 하고 싶을 때 이뮬레이트라는 함수를 사용하면 된다. - i에다가는 0,1,2,3을 주고\n",
    "a는 그대로  텍스트를 집어넣는 동시 이행을 하게 해주는 역할이다  / - 내용과 동시에 텍스트와 만들어 준다 그거에 대한 인덱스를 동시에 가져가게 해준다- 이것이 이뮬레이트\n",
    "##### 무조건 일대일 대응이여야 돌아간다는 점이 있다 \n"
   ]
  },
  {
   "cell_type": "code",
   "execution_count": 12,
   "metadata": {},
   "outputs": [
    {
     "name": "stdout",
     "output_type": "stream",
     "text": [
      "red: 20.0%\n",
      "green: 30.0%\n",
      "blue: 10.0%\n",
      "purple: 40.0%\n"
     ]
    }
   ],
   "source": [
    "a = [\"red\", \"green\", \"blue\", \"purple\"]\n",
    "b = [0.2, 0.3, 0.1, 0.4]\n",
    "for i, a in enumerate(a):\n",
    "    print(\"{}: {}%\".format(a, b[i]*100))"
   ]
  },
  {
   "cell_type": "markdown",
   "metadata": {},
   "source": [
    "##### 방법 2. zip을 사용하기 \n",
    "한꺼번에 패키지로 폴루프를 돌린다 -- 집 -- 위에것은 개별적으로 돌렸다면 \n",
    "\n",
    "같은 일을 개별 시행이 아닌 전체 시행으로 묶어내서 표현하는 방식임\n",
    "#### 즉 개수와는 상관없이 있는 것까지만 계산해준다 "
   ]
  },
  {
   "cell_type": "code",
   "execution_count": 13,
   "metadata": {
    "collapsed": true
   },
   "outputs": [
    {
     "name": "stdout",
     "output_type": "stream",
     "text": [
      "red: 40.0%\n",
      "green: 50.0%\n",
      "blue: 10.0%\n"
     ]
    }
   ],
   "source": [
    "c = [\"red\", \"green\", \"blue\", \"purple\"]\n",
    "d = [0.4, 0.5, 0.1]\n",
    "for c, d in zip(c,d):\n",
    "    print(\"{}: {}%\".format(c, d*100))\n"
   ]
  },
  {
   "cell_type": "markdown",
   "metadata": {},
   "source": [
    "# if절의 사용 "
   ]
  },
  {
   "cell_type": "markdown",
   "metadata": {},
   "source": [
    "기본적인 모습"
   ]
  },
  {
   "cell_type": "code",
   "execution_count": 14,
   "metadata": {
    "collapsed": true
   },
   "outputs": [
    {
     "name": "stdout",
     "output_type": "stream",
     "text": [
      "0\n"
     ]
    }
   ],
   "source": [
    "a = 0\n",
    "if a == 0:\n",
    "    print(a)\n",
    "else:\n",
    "     print(a+1)"
   ]
  },
  {
   "cell_type": "markdown",
   "metadata": {},
   "source": [
    "통상수학적인 =은 ==로 사용해야 한다 \n",
    "else = 그렇지 않으면 "
   ]
  },
  {
   "cell_type": "markdown",
   "metadata": {},
   "source": [
    "### for루프와 if를 함께 사용하기 "
   ]
  },
  {
   "cell_type": "code",
   "execution_count": 15,
   "metadata": {
    "collapsed": true
   },
   "outputs": [
    {
     "name": "stdout",
     "output_type": "stream",
     "text": [
      "3\n",
      "4\n",
      "6\n",
      "8\n"
     ]
    }
   ],
   "source": [
    "for i in range(1, 3):\n",
    "    for j in range(3, 5):\n",
    "        print(i*j)"
   ]
  },
  {
   "cell_type": "code",
   "execution_count": 16,
   "metadata": {
    "collapsed": true
   },
   "outputs": [
    {
     "name": "stdout",
     "output_type": "stream",
     "text": [
      "4\n",
      "8\n"
     ]
    }
   ],
   "source": [
    "for i in range(1, 3):\n",
    "    for j in range(3, 5):\n",
    "        if j >=4:\n",
    "            print(i*j)"
   ]
  },
  {
   "cell_type": "markdown",
   "metadata": {},
   "source": [
    "같거나 크다 >= 로 표현했고 (a,b)이면 a이상 b미만이라는 개념이라는 점 잊지말기"
   ]
  },
  {
   "cell_type": "markdown",
   "metadata": {},
   "source": [
    "### 한줄안에 if와 for loop가 함께 들어 가 있는 경우 "
   ]
  },
  {
   "cell_type": "code",
   "execution_count": 17,
   "metadata": {
    "collapsed": true
   },
   "outputs": [
    {
     "data": {
      "text/plain": [
       "[2, 3, 4]"
      ]
     },
     "execution_count": 17,
     "metadata": {},
     "output_type": "execute_result"
    }
   ],
   "source": [
    "a = [1, 2, 3, 4]\n",
    "b = [i for i in a if i >=2]\n",
    "b"
   ]
  },
  {
   "cell_type": "markdown",
   "metadata": {},
   "source": [
    "파이썬의 꽃입니다 제일 해깔림. 한줄에 폴루프와 이프가 다 들어가 있어 상당히 효율적\n",
    "for i in a 익숙한 폴루프 // - 총 4번 i에는 뒤에 루프 i = 1,2,3,4 폴루프의 내용에 해당하는 것이 if 뒷절 if i가 2보다 클때만 나와라"
   ]
  },
  {
   "cell_type": "code",
   "execution_count": 18,
   "metadata": {
    "collapsed": true
   },
   "outputs": [
    {
     "data": {
      "text/plain": [
       "['green', 'blue', 'purple']"
      ]
     },
     "execution_count": 18,
     "metadata": {},
     "output_type": "execute_result"
    }
   ],
   "source": [
    "a = ['red', 'green', 'blue', 'purple']\n",
    "b = [i for i in a if len(i) >=4]\n",
    "b"
   ]
  },
  {
   "cell_type": "markdown",
   "metadata": {},
   "source": [
    "red의 길이가 3이니까 안받아 준다   r,e,d 독립적으로 글자수=len의 길이  "
   ]
  },
  {
   "cell_type": "code",
   "execution_count": null,
   "metadata": {},
   "outputs": [],
   "source": []
  }
 ],
 "metadata": {
  "kernelspec": {
   "display_name": "Python 3",
   "language": "python",
   "name": "python3"
  },
  "language_info": {
   "codemirror_mode": {
    "name": "ipython",
    "version": 3
   },
   "file_extension": ".py",
   "mimetype": "text/x-python",
   "name": "python",
   "nbconvert_exporter": "python",
   "pygments_lexer": "ipython3",
   "version": "3.7.1"
  }
 },
 "nbformat": 4,
 "nbformat_minor": 2
}
