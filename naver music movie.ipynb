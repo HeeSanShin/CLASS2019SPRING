{
 "cells": [
  {
   "cell_type": "markdown",
   "metadata": {
    "collapsed": true
   },
   "source": [
    "# 네이버 영화인 순위 "
   ]
  },
  {
   "cell_type": "code",
   "execution_count": null,
   "metadata": {},
   "outputs": [],
   "source": [
    "# _*_ coding: UTF-8 _*_\n",
    "from urllib.request import urlopen\n",
    "from bs4 import BeautifulSoup\n",
    "import csv"
   ]
  },
  {
   "cell_type": "code",
   "execution_count": null,
   "metadata": {},
   "outputs": [],
   "source": [
    "html = urlopen('https://movie.naver.com/movie/sdb/rank/rpeople.nhn')\n",
    "bsObject = BeautifulSoup(html, \"html.parser\")"
   ]
  },
  {
   "cell_type": "code",
   "execution_count": null,
   "metadata": {},
   "outputs": [],
   "source": [
    "bsObject"
   ]
  },
  {
   "cell_type": "code",
   "execution_count": null,
   "metadata": {
    "scrolled": true
   },
   "outputs": [],
   "source": [
    "source = bsObject.head.title\n",
    "print(source)"
   ]
  },
  {
   "cell_type": "code",
   "execution_count": null,
   "metadata": {},
   "outputs": [],
   "source": [
    "K = bsObject.find_all('tr')\n",
    "print(K)"
   ]
  },
  {
   "cell_type": "code",
   "execution_count": null,
   "metadata": {},
   "outputs": [],
   "source": [
    "A = bsObject.find_all('td','title').get_text()"
   ]
  },
  {
   "cell_type": "code",
   "execution_count": null,
   "metadata": {
    "scrolled": true
   },
   "outputs": [],
   "source": [
    "bsObject.find_all('td','birth')[0].get_text()"
   ]
  },
  {
   "cell_type": "code",
   "execution_count": null,
   "metadata": {},
   "outputs": [],
   "source": [
    "for n in range(0,50):\n",
    "    name = bsObject.find_all('td','title')[n].get_text()\n",
    "    birth = bsObject.find_all('td','birth')[n].get_text()\n",
    "    print(n+1,name,birth)"
   ]
  },
  {
   "cell_type": "code",
   "execution_count": null,
   "metadata": {},
   "outputs": [],
   "source": [
    "name = bsObject.find_all('td','title')[n].get_text()\n",
    "    birth = bsObject.find_all('td','birth')[n].get_text()\n",
    "    print(n+1,name,birth)"
   ]
  },
  {
   "cell_type": "code",
   "execution_count": null,
   "metadata": {},
   "outputs": [],
   "source": [
    "맥북 page 응용 프로그램으로 해당 input들만 뽑아내는것 확인했음"
   ]
  },
  {
   "cell_type": "code",
   "execution_count": null,
   "metadata": {},
   "outputs": [],
   "source": [
    "with open('navermovie.csv', 'w') as K:\n",
    "    writer = csv.writer(K)\n",
    "    writer.writerow(['rank', 'name', 'birth'])\n",
    "        \n",
    "    for n in range(0,50):\n",
    "        name = bsObject.find_all('td','title')[n].get_text()\n",
    "        birth = bsObject.find_all('td','birth')[n].get_text()\n",
    "        writer.writerow([n+1, name, birth])"
   ]
  },
  {
   "cell_type": "markdown",
   "metadata": {},
   "source": [
    "# 네이버 뮤직 차트 "
   ]
  },
  {
   "cell_type": "code",
   "execution_count": null,
   "metadata": {},
   "outputs": [],
   "source": [
    "html = urlopen('https://music.naver.com/listen/top100.nhn?domain=TOTAL_V2')\n",
    "A= BeautifulSoup(html, \"html.parser\")"
   ]
  },
  {
   "cell_type": "code",
   "execution_count": null,
   "metadata": {},
   "outputs": [],
   "source": [
    "A"
   ]
  },
  {
   "cell_type": "markdown",
   "metadata": {},
   "source": [
    "#### 왜 파인드 올을 사용해야만 되는건지?? "
   ]
  },
  {
   "cell_type": "markdown",
   "metadata": {},
   "source": [
    "1. 아니면 처음 부분만 나옴 "
   ]
  },
  {
   "cell_type": "markdown",
   "metadata": {},
   "source": [
    "따로 정의하지 않을시 이상하게 써짐 "
   ]
  },
  {
   "cell_type": "markdown",
   "metadata": {},
   "source": [
    "#### 예쁘게 어레인지 하는법 배워오기 ㅎㅎㅎㅎ "
   ]
  },
  {
   "cell_type": "code",
   "execution_count": null,
   "metadata": {},
   "outputs": [],
   "source": [
    "for n in range(1,101):\n",
    "    name = A.find_all('td','artist')[n].get_text()\n",
    "    song = A.find_all('a','title')[n-1].get_text()\n",
    "    print(n,song)   \n",
    "    print(name)"
   ]
  },
  {
   "cell_type": "code",
   "execution_count": null,
   "metadata": {},
   "outputs": [],
   "source": [
    "with open('navermusic.csv', 'w') as B:\n",
    "    writer = csv.writer(B)\n",
    "    writer.writerow(['rank', 'singer', 'song'])\n",
    "        \n",
    "    for n in range(1,101):\n",
    "        singer = A.find_all('td','artist')[n].get_text()\n",
    "        song = A.find_all('a','title')[n-1].get_text()\n",
    "        writer.writerow([n, singer, song])"
   ]
  },
  {
   "cell_type": "markdown",
   "metadata": {},
   "source": [
    "## 서로 인수값이 완전히 달라서 이를 커버하려면 singer 값을 out of list로 둘수밖에 없음 csv 파일은 정상적으로 프로그래밍 되는 것을 확인 할 수 있음 "
   ]
  },
  {
   "cell_type": "code",
   "execution_count": null,
   "metadata": {},
   "outputs": [],
   "source": []
  }
 ],
 "metadata": {
  "kernelspec": {
   "display_name": "Python 3",
   "language": "python",
   "name": "python3"
  },
  "language_info": {
   "codemirror_mode": {
    "name": "ipython",
    "version": 3
   },
   "file_extension": ".py",
   "mimetype": "text/x-python",
   "name": "python",
   "nbconvert_exporter": "python",
   "pygments_lexer": "ipython3",
   "version": "3.7.1"
  }
 },
 "nbformat": 4,
 "nbformat_minor": 1
}
