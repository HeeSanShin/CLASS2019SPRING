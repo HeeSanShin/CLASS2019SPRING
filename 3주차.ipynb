{
  "nbformat": 4,
  "nbformat_minor": 0,
  "metadata": {
    "colab": {
      "provenance": [],
      "authorship_tag": "ABX9TyMxI7N0t61AWt6Ga2rVoZGl",
      "include_colab_link": true
    },
    "kernelspec": {
      "name": "python3",
      "display_name": "Python 3"
    },
    "language_info": {
      "name": "python"
    }
  },
  "cells": [
    {
      "cell_type": "markdown",
      "metadata": {
        "id": "view-in-github",
        "colab_type": "text"
      },
      "source": [
        "<a href=\"https://colab.research.google.com/github/HeeSanShin/CLASS2019SPRING/blob/master/3%EC%A3%BC%EC%B0%A8.ipynb\" target=\"_parent\"><img src=\"https://colab.research.google.com/assets/colab-badge.svg\" alt=\"Open In Colab\"/></a>"
      ]
    },
    {
      "cell_type": "code",
      "source": [
        "print('Hello!')"
      ],
      "metadata": {
        "colab": {
          "base_uri": "https://localhost:8080/"
        },
        "id": "nHLhrpL1kmzS",
        "outputId": "493c374b-28e8-4523-80d6-7e41d46467a6"
      },
      "execution_count": 6,
      "outputs": [
        {
          "output_type": "stream",
          "name": "stdout",
          "text": [
            "Hello!\n"
          ]
        }
      ]
    },
    {
      "cell_type": "code",
      "source": [
        "print('Hi!')"
      ],
      "metadata": {
        "colab": {
          "base_uri": "https://localhost:8080/"
        },
        "id": "qY8YHVytk1Jv",
        "outputId": "d73d9c2d-ce4b-4764-cdd3-d940d311ab4e"
      },
      "execution_count": 7,
      "outputs": [
        {
          "output_type": "stream",
          "name": "stdout",
          "text": [
            "Hi!\n"
          ]
        }
      ]
    },
    {
      "cell_type": "code",
      "source": [
        "a = \"Hello!\""
      ],
      "metadata": {
        "id": "YCOpl5g1laAA"
      },
      "execution_count": 8,
      "outputs": []
    },
    {
      "cell_type": "code",
      "source": [
        "print(a)"
      ],
      "metadata": {
        "colab": {
          "base_uri": "https://localhost:8080/"
        },
        "id": "-IjQhCyllsH8",
        "outputId": "b578dd38-65e0-49c1-fea6-127af393148e"
      },
      "execution_count": 10,
      "outputs": [
        {
          "output_type": "stream",
          "name": "stdout",
          "text": [
            "Hello!\n"
          ]
        }
      ]
    },
    {
      "cell_type": "code",
      "source": [
        "a = \"Bye!\""
      ],
      "metadata": {
        "id": "sIpQ7xP0l0yX"
      },
      "execution_count": 11,
      "outputs": []
    },
    {
      "cell_type": "code",
      "source": [
        "b = 123\n",
        "c = [123,4,\"Hello\"]"
      ],
      "metadata": {
        "id": "TWG-XtqvmmJK"
      },
      "execution_count": 15,
      "outputs": []
    },
    {
      "cell_type": "code",
      "source": [
        "d = {\"a\" :1}"
      ],
      "metadata": {
        "id": "hiXIDGZcnQSi"
      },
      "execution_count": 16,
      "outputs": []
    },
    {
      "cell_type": "code",
      "source": [
        "print(type(a))"
      ],
      "metadata": {
        "colab": {
          "base_uri": "https://localhost:8080/"
        },
        "id": "-lE-OWSInidY",
        "outputId": "fe9072a5-a563-48ad-a778-f7c32bdcde65"
      },
      "execution_count": 20,
      "outputs": [
        {
          "output_type": "stream",
          "name": "stdout",
          "text": [
            "<class 'str'>\n"
          ]
        }
      ]
    },
    {
      "cell_type": "code",
      "source": [
        "del d"
      ],
      "metadata": {
        "id": "tjFOEpQznp6H"
      },
      "execution_count": 21,
      "outputs": []
    },
    {
      "cell_type": "code",
      "source": [
        "#데이터유형종류(아주기본적으로 숫자가 있는데 정수(int)와 플로트가 있다)"
      ],
      "metadata": {
        "id": "8uzr6zy2oOoh"
      },
      "execution_count": 22,
      "outputs": []
    },
    {
      "cell_type": "code",
      "source": [
        "a=1\n",
        "b=0\n",
        "c=-1\n",
        "#이러한 것들은 int라고한다\n"
      ],
      "metadata": {
        "id": "gDtIw0Tnog8S"
      },
      "execution_count": 23,
      "outputs": []
    },
    {
      "cell_type": "code",
      "source": [
        "#소수를 쓰고 싶어한다.플로트라고한다. 점쓰면 모두 플로트가 된다\n",
        "a = 3.14159\n",
        "b = -3.14159\n",
        "c= 0.0"
      ],
      "metadata": {
        "id": "lrrmDjUJopvT"
      },
      "execution_count": 27,
      "outputs": []
    },
    {
      "cell_type": "code",
      "source": [
        "#활용방안 사칙연산\n",
        "a =5\n",
        "b =3\n",
        "print(a+b)\n"
      ],
      "metadata": {
        "colab": {
          "base_uri": "https://localhost:8080/"
        },
        "id": "JnIjccGYould",
        "outputId": "bc9c5c1d-b2f3-4a7e-d182-593601cf169f"
      },
      "execution_count": 29,
      "outputs": [
        {
          "output_type": "stream",
          "name": "stdout",
          "text": [
            "8\n"
          ]
        }
      ]
    },
    {
      "cell_type": "code",
      "source": [
        "c = a+b\n",
        "print(c)"
      ],
      "metadata": {
        "colab": {
          "base_uri": "https://localhost:8080/"
        },
        "id": "cp8PpqEIpIgk",
        "outputId": "b4038ac8-c1d9-48c4-b9e2-1cf6085cba3c"
      },
      "execution_count": 30,
      "outputs": [
        {
          "output_type": "stream",
          "name": "stdout",
          "text": [
            "8\n"
          ]
        }
      ]
    },
    {
      "cell_type": "code",
      "source": [
        "print(a-b)\n",
        "print(a*b)\n",
        "print(a/b)"
      ],
      "metadata": {
        "colab": {
          "base_uri": "https://localhost:8080/"
        },
        "id": "reGB5H-dpZmi",
        "outputId": "643a95d6-0e50-48d2-d8b6-4dcc1ee68113"
      },
      "execution_count": 31,
      "outputs": [
        {
          "output_type": "stream",
          "name": "stdout",
          "text": [
            "2\n",
            "15\n",
            "1.6666666666666667\n"
          ]
        }
      ]
    },
    {
      "cell_type": "code",
      "source": [
        "#몫이랑 나머지 알고싶을때\n",
        "print(a//b)#몫"
      ],
      "metadata": {
        "colab": {
          "base_uri": "https://localhost:8080/"
        },
        "id": "AXDCWFoPpkM7",
        "outputId": "cce33723-4cb3-4c7c-9435-3c47182ee836"
      },
      "execution_count": 33,
      "outputs": [
        {
          "output_type": "stream",
          "name": "stdout",
          "text": [
            "1\n"
          ]
        }
      ]
    },
    {
      "cell_type": "code",
      "source": [
        "print(a%b)#나머지\n",
        "# %,//, =, 넣는거 이런거도 다 함수이다."
      ],
      "metadata": {
        "colab": {
          "base_uri": "https://localhost:8080/"
        },
        "id": "GW1bA1Kkp2PS",
        "outputId": "6cc19ace-8634-4495-9a7e-2dced4f6bd70"
      },
      "execution_count": 41,
      "outputs": [
        {
          "output_type": "stream",
          "name": "stdout",
          "text": [
            "2\n"
          ]
        }
      ]
    },
    {
      "cell_type": "code",
      "source": [
        "#값을 비교할수도 있다 false나오면 이건 참이아니다라고 말하는 것이다.!=같지않다, ==같다\n",
        "print(a < b)\n",
        "print(b<a)\n",
        "print(b<=a)\n",
        "print(a==b)\n",
        "print(a != b)\n"
      ],
      "metadata": {
        "colab": {
          "base_uri": "https://localhost:8080/"
        },
        "id": "htbpL6slp8fZ",
        "outputId": "6bc191ba-d9b2-4524-f596-f02711f6f940"
      },
      "execution_count": 40,
      "outputs": [
        {
          "output_type": "stream",
          "name": "stdout",
          "text": [
            "False\n",
            "True\n",
            "True\n",
            "False\n"
          ]
        }
      ]
    },
    {
      "cell_type": "code",
      "source": [
        "# 저위까지가 숫자형이다.\n"
      ],
      "metadata": {
        "id": "Mu7unqzKqnbQ"
      },
      "execution_count": 42,
      "outputs": []
    },
    {
      "cell_type": "code",
      "source": [
        "#맨처음에 봤던게 택스트(스트링)\n",
        "a = \"Hello!\"\n",
        "b = 'Hello!'\n",
        "c = \"\"\n",
        "d = ''\n",
        "#4개다 스트링이고, 내용물은 ''\"\"\"여도 동일함. 크기가 0이여도 스트링임.\n",
        "#숫자의경우에는 숫자형 단하나인데, 지금부터 볼것은 sequence라고 묶어서 부르는 유형타입보겠다.\n",
        "#여러개를 순차적으로 저장하는것. HELLO!도 문자의 시퀀스임. [1,2,3]과 같은 집합체도 순차적나열했으니 시퀀스이다\n",
        "#스트링,텍스트,문자열은 같은말. 텍스트도 플러스라는 연산자 사용가능.\n",
        "a = \"py\"\n",
        "b = \"thon\"\n",
        "print(a+b) # 합쳐서 하나의 큰 스트링을 만든다\n",
        "print(a*3) #pypypy의 3번반복 스트링의 반복의 명령이된다.\n",
        "#크기는 스트링에서는 문자의 개수이다.이를 함수를 통해 정보를 뽑아내야한다.(length)\n",
        "#시퀀스 내에 있는 크기를 파악\n",
        "len(a)\n",
        "a = \"Hello world!\"\n",
        "#a의 일부룰 바꾸고 싶다면 어떻게할까?a만써서하려면 replace함수 써야함.\n",
        "a.replace(\"world\",\"phython\")\n",
        "#점뒤에오는 replace는 스트링에서만 사용가능함.\n",
        "\n",
        "\n",
        "#a의 일부를 뽑고싶다, 이를 인덱스라고함. 파이썬 각 알파벳을 엘리먼트라 하는데 각자리마다 번호가 있다.p는 0과같은거\n",
        "#파이썬이 6개의 글자임, 그래도 n뽑으려면 5이다(0부터시작하니)\n",
        "a = \"python\"\n",
        "print(a[0])\n",
        "#마지막글자 쉽게뽑는방법(음수인덱스-제일끝일 -1로 거꾸로감)\n",
        "print(a[-6])\n",
        "#원소를 여러개 뽑는 방법()\n",
        "print(a[2:5]) #슬라이싱이근데 끝에있는것은 포함안시킴(2:5해야 tho가뽑힘)\n",
        "print(a[:2]) #0이 있으면 이를 생략해도됨.\n",
        "print(a[4:]) #끝도 생략가능\n",
        "\n",
        "\n",
        "\n",
        "#list에 관한것 #하나의 그룹으로 묶는것임[]#숫자문자혼합가능#리스트안에리스트도넣기가능\n",
        "#보통은 같은데이트형끼리 묶어놓음 \"\", 리스트도 빈리스트 만들수있음(뭐 싸아두는용)\n",
        "#리스트는 글자개수가 아니라 거기있는 원소개수임.\n",
        "a = [1,2,3]\n",
        "b = [\"ab\",\"hello\"]\n",
        "c = []\n",
        "print(len(a)) #3이 나옴 ,로 구분되면 3개라는것이다.\n",
        "print(len(c)) #0이 나옴.\n",
        "#len은 스트링이나 리스트처럼 여러개인거에 쓰인다.\n",
        "\n",
        "#스트링처럼 데이터 뽑아낼 수 있다.\n",
        "print(a[0]) #1이 나옴\n",
        "print(a[-1]) #3이 나옴\n",
        "print(a[:2]) #1,2나옴\n",
        "print(a[1:]) #2,3이 나옴.\n",
        "#차이점은 그렇다면 무엇인가?스트링은 replace로 대체가능하다고 했음. list는 더쉽게\n",
        "#가능하다, indexing을 통해\n",
        "#1을 4로 바꾸고 싶다면 이렇게 하면된다\n",
        "a[0] = 4\n",
        "#추가하는 방법(0,1에서 2,3을 추가하는법)\n",
        "a = [0,1]\n",
        "b = [2,3]\n",
        "print(a+b) #하면 0,1,2,3이 되고\n",
        "a = a+b #통해 해야함\n",
        "a += b\n",
        "#2번쨰 방법\n",
        "a=[0.1]\n",
        "a = a.append(2) #끝에 다가 숫자2를 넣어준다느것\n",
        "a.extend([2,3])\n",
        "#2,3을 넣는 경우 a.append ([2,3])하면 두개가 묶여서 하나의원소로 인식됨\n",
        "#삭제하는방법\n",
        "#2를 없애려면\n",
        "  a.pop() #맨뒤의 숫자인 3를 뽑아내고 이를 삭제시키는것임.\n",
        "\n",
        " #튜플이라는 애가 있다. 리스트와 유사함. (tuple)#튜플은 소괄호로 사용해서 만듬\n",
        " a = [1,2,3]\n",
        " b = (1,2,3) #b가 튜플임 튜플은 고정값이라 추가나 삭제가 안되는것이다.(어펜드,탑 다 안됨)\n",
        "\n",
        "#시퀀스말고 매핑(mapping) /\n",
        "#dictionary #key(별명) : value(엘리스,나이,서울)\n",
        "f ={\"name\":\"Alice\",\"age\":23, \"city\":\"seoul\" }\n",
        "#리스트는 키값으로 찾음, 0부터 시작아님(시퀀스랑은다르게)#좀더직관적이게뽑는다\n",
        "f[\"name\"]\n",
        "f[\"age\"]\n",
        "f[\"name\"] = \"John\" # 바꿀수있다\n",
        "del f[\"name\"] #네임택삭제\n",
        "a[\"is_stuedent\"] = True #이렇게만 해도 자동으로 추가된다 시퀀스는 이렇게 못함.\n",
        "#즉 키와 벨류가 연결되는 매핑이다.\n",
        "\n",
        "\n",
        "#true false를 분리형이라고 한다\n",
        "a = True\n",
        "b = False"
      ],
      "metadata": {
        "colab": {
          "base_uri": "https://localhost:8080/",
          "height": 146
        },
        "id": "gSeorI92t36M",
        "outputId": "89b0f306-a795-4b35-c801-ebe6b911b114"
      },
      "execution_count": 113,
      "outputs": [
        {
          "output_type": "error",
          "ename": "IndentationError",
          "evalue": "ignored",
          "traceback": [
            "\u001b[0;36m  File \u001b[0;32m\"<tokenize>\"\u001b[0;36m, line \u001b[0;32m71\u001b[0m\n\u001b[0;31m    a = [1,2,3]\u001b[0m\n\u001b[0m    ^\u001b[0m\n\u001b[0;31mIndentationError\u001b[0m\u001b[0;31m:\u001b[0m unindent does not match any outer indentation level\n"
          ]
        }
      ]
    },
    {
      "cell_type": "code",
      "source": [
        "#true false를 분리형이라고 한다\n",
        "a = True\n",
        "b = False"
      ],
      "metadata": {
        "id": "NC2IhCXL6d8X"
      },
      "execution_count": 115,
      "outputs": []
    },
    {
      "cell_type": "code",
      "source": [
        "#스트링이라면 각자가 동일한위치에 있는지로 트루펄스\n",
        "print(a==b) #위치까지 동일해야함\n",
        "\n"
      ],
      "metadata": {
        "colab": {
          "base_uri": "https://localhost:8080/"
        },
        "id": "BRh872cTuF-F",
        "outputId": "0aaa6d48-4844-4e32-8a3b-d551f67120ab"
      },
      "execution_count": 116,
      "outputs": [
        {
          "output_type": "stream",
          "name": "stdout",
          "text": [
            "False\n"
          ]
        }
      ]
    },
    {
      "cell_type": "code",
      "source": [
        "#발전형\n",
        "a = 1\n",
        "b = 3\n",
        "c =5\n",
        "condition1 = a<b\n",
        "condition2 = b<c\n",
        "print(condition1 and condition2) #모두 맞아야 트루로 나옴\n",
        "print(condition1 or condition2) #둘중 하나만 맞아도 트루\n",
        "print(not condition1) - 컨디션의 반대값을 나타냄."
      ],
      "metadata": {
        "colab": {
          "base_uri": "https://localhost:8080/"
        },
        "id": "uzunLTzJ6tXz",
        "outputId": "78ab17bb-28cd-4b30-c4cf-af7463a83d08"
      },
      "execution_count": 117,
      "outputs": [
        {
          "output_type": "stream",
          "name": "stdout",
          "text": [
            "True\n"
          ]
        }
      ]
    },
    {
      "cell_type": "code",
      "source": [],
      "metadata": {
        "id": "dmB9BL4w69Rj"
      },
      "execution_count": null,
      "outputs": []
    }
  ]
}